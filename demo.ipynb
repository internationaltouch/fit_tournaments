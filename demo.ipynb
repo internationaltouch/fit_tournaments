{
 "cells": [
  {
   "cell_type": "markdown",
   "metadata": {},
   "source": [
    "# Demo of Jupyter in GitHub\n",
    "\n",
    "When you commit a Jupyter notebook to a git repository hosted on [GitHub] it will (apparently) render it for you.\n",
    "\n",
    "[GitHub]: https://github.com"
   ]
  },
  {
   "cell_type": "code",
   "execution_count": 1,
   "metadata": {},
   "outputs": [
    {
     "data": {
      "text/plain": [
       "<QuerySet [<Country: Argentina>, <Country: Australia>, <Country: Austria>, <Country: Belgium>, <Country: Bulgaria>, <Country: Canada>, <Country: Chile>, <Country: China>, <Country: Chinese Taipei>, <Country: Cook Islands>, <Country: Czech Republic>, <Country: Egypt>, <Country: England>, <Country: Estonia>, <Country: Fiji>, <Country: France>, <Country: Germany>, <Country: Guernsey>, <Country: Hong Kong>, <Country: Hungary>, '...(remaining elements truncated)...']>"
      ]
     },
     "execution_count": 1,
     "metadata": {},
     "output_type": "execute_result"
    }
   ],
   "source": [
    "import django, os, sys\n",
    "sys.path.append(os.getcwd())\n",
    "os.environ.setdefault(\"DJANGO_SETTINGS_MODULE\", \"project.settings\")\n",
    "os.environ.setdefault(\"DJANGO_ALLOW_ASYNC_UNSAFE\", \"True\")\n",
    "django.setup()\n",
    "\n",
    "from eligibility.models import Country\n",
    "Country.objects.all()\n"
   ]
  }
 ],
 "metadata": {
  "kernelspec": {
   "display_name": "Python 3 (ipykernel)",
   "language": "python",
   "name": "python3"
  },
  "language_info": {
   "codemirror_mode": {
    "name": "ipython",
    "version": 3
   },
   "file_extension": ".py",
   "mimetype": "text/x-python",
   "name": "python",
   "nbconvert_exporter": "python",
   "pygments_lexer": "ipython3",
   "version": "3.9.6"
  }
 },
 "nbformat": 4,
 "nbformat_minor": 1
}
